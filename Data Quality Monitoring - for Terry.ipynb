{
 "cells": [
  {
   "cell_type": "markdown",
   "metadata": {},
   "source": [
    "### Exploring traffic, impressions and interactions"
   ]
  },
  {
   "cell_type": "code",
   "execution_count": 172,
   "metadata": {},
   "outputs": [],
   "source": [
    "#Can skip these imports if you alreaady have them:\n",
    "import pandas as pd\n",
    "import matplotlib.pyplot as plt\n",
    "import numpy as np\n",
    "import datetime\n",
    "import matplotlib.dates as mdates"
   ]
  },
  {
   "cell_type": "code",
   "execution_count": 162,
   "metadata": {},
   "outputs": [],
   "source": [
    "#Can skip these since you already have them as Pandas dataframes:\n",
    "traffic = pd.read_csv(\"traffic.csv\", index_col=0, parse_dates=True)\n",
    "impressions = pd.read_csv(\"impression.csv\", index_col=0, parse_dates=True)\n",
    "interactions = pd.read_csv(\"interaction.csv\", index_col=0, parse_dates=True)"
   ]
  },
  {
   "cell_type": "code",
   "execution_count": 163,
   "metadata": {},
   "outputs": [],
   "source": [
    "#Calculate the rates, if no data set rate to 0:\n",
    "def calculate_rate(num, denom):\n",
    "    rate = num/denom * 100\n",
    "    rate = rate.fillna(0)\n",
    "    return rate\n",
    "    \n",
    "impression_rate = calculate_rate(impressions, traffic)\n",
    "interaction_rate = calculate_rate(interactions, impressions)"
   ]
  },
  {
   "cell_type": "code",
   "execution_count": 164,
   "metadata": {},
   "outputs": [],
   "source": [
    "#Function searches for outliers in a dataframe and stores them in a boolean dataframe\n",
    "#Then prints the index row and column, i.e. date and unit of the outliers\n",
    "#Prints the outliers on most recent date\n",
    "\n",
    "def print_outliers(data, rate):\n",
    "    Q1 = data.quantile(0.25)\n",
    "    Q3 = data.quantile(0.75)\n",
    "    IQR = Q3 - Q1\n",
    "    IQR_adjusted = IQR\n",
    "    IQR_adjusted[IQR_adjusted == 0] = np.nan\n",
    "    IQR_median = IQR_adjusted.median()\n",
    "    #Set some conditions for defining outliers:\n",
    "    outliers = (data < (Q1 - 1.5 * IQR)) | (data > (Q3 + 1.5 * IQR)) | (data > 100) | (data < (Q1 - 1.5 * IQR_median)) | (data > (Q3 + 1.5 * IQR)) \n",
    "    no_outliers = outliers[outliers].count().sum()/outliers.count().sum()\n",
    "    #Just do the most recent date:\n",
    "    outliers_last = outliers.iloc[[-1],:]\n",
    "    no_outliers_last = outliers_last[outliers_last].count().sum()\n",
    "    s = outliers_last[outliers_last].stack()\n",
    "    date = s.index.get_level_values(0)[0]\n",
    "    res1 = str(no_outliers_last) + \" outlier \" + str(rate) + \"s on \" + str(date) + \" :\"\n",
    "    res2 = str(list(s.index.get_level_values(1)))\n",
    "    result = res1 + res2\n",
    "    return outliers, outliers_last, result"
   ]
  },
  {
   "cell_type": "markdown",
   "metadata": {},
   "source": [
    "#### Impression rate - outliers"
   ]
  },
  {
   "cell_type": "code",
   "execution_count": 165,
   "metadata": {},
   "outputs": [],
   "source": [
    "outlier_impressions, outlier_impressions_last, outlier_impressions_result = print_outliers(impression_rate, \"impression\")"
   ]
  },
  {
   "cell_type": "code",
   "execution_count": 166,
   "metadata": {},
   "outputs": [
    {
     "data": {
      "text/plain": [
       "\"8 outlier impressions on 2018-12-12 00:00:00 :['Calvin Klein Bangkok T1 West', 'Calvin Klein Manila Fiestamall Obsessed', 'Calvin Klein Manila Fiestamall One Gold', 'Calvin Klein Moscow Airport', 'Coty Gondola Shanghai Explorium 2.0', 'Guerlain Rouge G Champs Elysées Paris', 'Marc Jacobs London Heathrow', 'Mayb 15ft Wollongong NSW']\""
      ]
     },
     "execution_count": 166,
     "metadata": {},
     "output_type": "execute_result"
    }
   ],
   "source": [
    "outlier_impressions_result"
   ]
  },
  {
   "cell_type": "markdown",
   "metadata": {},
   "source": [
    "#### Interaction rate - outliers"
   ]
  },
  {
   "cell_type": "code",
   "execution_count": 167,
   "metadata": {},
   "outputs": [],
   "source": [
    "outlier_interactions, outlier_interactions_last, outlier_interactions_result = print_outliers(interaction_rate, \"interaction\")"
   ]
  },
  {
   "cell_type": "code",
   "execution_count": 168,
   "metadata": {},
   "outputs": [
    {
     "data": {
      "text/plain": [
       "\"5 outlier interactions on 2018-12-12 00:00:00 :['Calvin Klein Bangkok T1 West', 'Calvin Klein Manila Fiestamall Obsessed', 'Calvin Klein Manila Fiestamall One Gold', 'Hugo Boss London Heathrow', 'Hugo Boss Tel Aviv Airport']\""
      ]
     },
     "execution_count": 168,
     "metadata": {},
     "output_type": "execute_result"
    }
   ],
   "source": [
    "outlier_interactions_result"
   ]
  },
  {
   "cell_type": "markdown",
   "metadata": {},
   "source": [
    "#### Chart outlier units - traffic and impressions"
   ]
  },
  {
   "cell_type": "code",
   "execution_count": 197,
   "metadata": {},
   "outputs": [
    {
     "data": {
      "text/plain": [
       "<Figure size 576x360 with 0 Axes>"
      ]
     },
     "metadata": {},
     "output_type": "display_data"
    },
    {
     "data": {
      "text/plain": [
       "<Figure size 576x360 with 0 Axes>"
      ]
     },
     "metadata": {},
     "output_type": "display_data"
    },
    {
     "data": {
      "text/plain": [
       "<Figure size 576x360 with 0 Axes>"
      ]
     },
     "metadata": {},
     "output_type": "display_data"
    },
    {
     "data": {
      "text/plain": [
       "<Figure size 576x360 with 0 Axes>"
      ]
     },
     "metadata": {},
     "output_type": "display_data"
    },
    {
     "data": {
      "text/plain": [
       "<Figure size 576x360 with 0 Axes>"
      ]
     },
     "metadata": {},
     "output_type": "display_data"
    },
    {
     "data": {
      "text/plain": [
       "<Figure size 576x360 with 0 Axes>"
      ]
     },
     "metadata": {},
     "output_type": "display_data"
    },
    {
     "data": {
      "text/plain": [
       "<Figure size 576x360 with 0 Axes>"
      ]
     },
     "metadata": {},
     "output_type": "display_data"
    },
    {
     "data": {
      "text/plain": [
       "<Figure size 576x360 with 0 Axes>"
      ]
     },
     "metadata": {},
     "output_type": "display_data"
    }
   ],
   "source": [
    "#Saves the charts of most recent problem units for impressions as impression_problem01.png and so on:\n",
    "impressions_to_chart = outlier_impressions.columns.values[outlier_impressions_last.sum() > 0]\n",
    "traffic2 = traffic[impressions_to_chart]\n",
    "impressions2 = impressions[impressions_to_chart]\n",
    "\n",
    "for i in np.arange(impressions_to_chart.size):\n",
    "    fig, ax = plt.subplots(figsize=(8,5))\n",
    "    ax.plot(traffic2.iloc[:,i])\n",
    "    ax.plot(impressions2.iloc[:,i])\n",
    "    ax.set_title(traffic2.columns.values[i])\n",
    "    ax.legend(labels=['traffic', 'impressions'],loc='best')\n",
    "    fig.savefig('impression_problem'+str(i+1)+'.png')\n",
    "    fig.clf()"
   ]
  },
  {
   "cell_type": "markdown",
   "metadata": {},
   "source": [
    "#### Chart outlier units - impressions and interactions"
   ]
  },
  {
   "cell_type": "code",
   "execution_count": 200,
   "metadata": {},
   "outputs": [
    {
     "data": {
      "text/plain": [
       "<Figure size 576x360 with 0 Axes>"
      ]
     },
     "metadata": {},
     "output_type": "display_data"
    },
    {
     "data": {
      "text/plain": [
       "<Figure size 576x360 with 0 Axes>"
      ]
     },
     "metadata": {},
     "output_type": "display_data"
    },
    {
     "data": {
      "text/plain": [
       "<Figure size 576x360 with 0 Axes>"
      ]
     },
     "metadata": {},
     "output_type": "display_data"
    },
    {
     "data": {
      "text/plain": [
       "<Figure size 576x360 with 0 Axes>"
      ]
     },
     "metadata": {},
     "output_type": "display_data"
    },
    {
     "data": {
      "text/plain": [
       "<Figure size 576x360 with 0 Axes>"
      ]
     },
     "metadata": {},
     "output_type": "display_data"
    }
   ],
   "source": [
    "#Saves the charts of most recent problem units for interactions as interaction_problem01.png and so on:\n",
    "interactions_to_chart = outlier_interactions.columns.values[outlier_interactions_last.sum() > 0]\n",
    "impressions3 = impressions[interactions_to_chart]\n",
    "interactions3 = interactions[interactions_to_chart]\n",
    "    \n",
    "for i in np.arange(interactions_to_chart.size):\n",
    "    fig, ax = plt.subplots(figsize=(8,5))\n",
    "    ax.plot(impressions3.iloc[:,i])\n",
    "    ax.plot(interactions3.iloc[:,i])\n",
    "    ax.set_title(impressions3.columns.values[i])\n",
    "    ax.legend(labels=['impressions', 'interactionss'],loc='best')\n",
    "    fig.savefig('interaction_problem'+str(i+1)+'.png')\n",
    "    fig.clf()"
   ]
  },
  {
   "cell_type": "code",
   "execution_count": null,
   "metadata": {},
   "outputs": [],
   "source": []
  }
 ],
 "metadata": {
  "kernelspec": {
   "display_name": "Python 3",
   "language": "python",
   "name": "python3"
  },
  "language_info": {
   "codemirror_mode": {
    "name": "ipython",
    "version": 3
   },
   "file_extension": ".py",
   "mimetype": "text/x-python",
   "name": "python",
   "nbconvert_exporter": "python",
   "pygments_lexer": "ipython3",
   "version": "3.7.0"
  }
 },
 "nbformat": 4,
 "nbformat_minor": 2
}
